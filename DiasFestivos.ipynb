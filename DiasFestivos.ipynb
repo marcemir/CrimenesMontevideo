{
 "cells": [
  {
   "cell_type": "code",
   "execution_count": 7,
   "metadata": {},
   "outputs": [],
   "source": [
    "import pandas as pd\n",
    "import holidays\n",
    "\n",
    "# Crear un rango de años desde 2013 hasta el año actual\n",
    "años = range(2013, 2024)  # Incluye 2023 y 2024\n",
    "\n",
    "# Generar los días festivos para Uruguay\n",
    "festivos_uy = []\n",
    "for año in años:\n",
    "    for fecha, nombre in holidays.Uruguay(years=año).items():\n",
    "        festivos_uy.append({'fecha': fecha, 'nombre': nombre})\n",
    "\n",
    "# Crear un DataFrame con los datos de días festivos\n",
    "df_festivos = pd.DataFrame(festivos_uy)\n",
    "\n",
    "# Ordenar el DataFrame por fecha\n",
    "df_festivos = df_festivos.sort_values(by='fecha').reset_index(drop=True)"
   ]
  },
  {
   "cell_type": "code",
   "execution_count": 8,
   "metadata": {},
   "outputs": [
    {
     "data": {
      "text/html": [
       "<div>\n",
       "<style scoped>\n",
       "    .dataframe tbody tr th:only-of-type {\n",
       "        vertical-align: middle;\n",
       "    }\n",
       "\n",
       "    .dataframe tbody tr th {\n",
       "        vertical-align: top;\n",
       "    }\n",
       "\n",
       "    .dataframe thead th {\n",
       "        text-align: right;\n",
       "    }\n",
       "</style>\n",
       "<table border=\"1\" class=\"dataframe\">\n",
       "  <thead>\n",
       "    <tr style=\"text-align: right;\">\n",
       "      <th></th>\n",
       "      <th>fecha</th>\n",
       "      <th>nombre</th>\n",
       "    </tr>\n",
       "  </thead>\n",
       "  <tbody>\n",
       "    <tr>\n",
       "      <th>0</th>\n",
       "      <td>2013-01-01</td>\n",
       "      <td>Año Nuevo</td>\n",
       "    </tr>\n",
       "    <tr>\n",
       "      <th>1</th>\n",
       "      <td>2013-05-01</td>\n",
       "      <td>Día de los Trabajadores</td>\n",
       "    </tr>\n",
       "    <tr>\n",
       "      <th>2</th>\n",
       "      <td>2013-07-18</td>\n",
       "      <td>Jura de la Constitución</td>\n",
       "    </tr>\n",
       "    <tr>\n",
       "      <th>3</th>\n",
       "      <td>2013-08-25</td>\n",
       "      <td>Declaratoria de la Independencia</td>\n",
       "    </tr>\n",
       "    <tr>\n",
       "      <th>4</th>\n",
       "      <td>2013-12-25</td>\n",
       "      <td>Día de la Familia</td>\n",
       "    </tr>\n",
       "    <tr>\n",
       "      <th>5</th>\n",
       "      <td>2014-01-01</td>\n",
       "      <td>Año Nuevo</td>\n",
       "    </tr>\n",
       "    <tr>\n",
       "      <th>6</th>\n",
       "      <td>2014-05-01</td>\n",
       "      <td>Día de los Trabajadores</td>\n",
       "    </tr>\n",
       "    <tr>\n",
       "      <th>7</th>\n",
       "      <td>2014-07-18</td>\n",
       "      <td>Jura de la Constitución</td>\n",
       "    </tr>\n",
       "    <tr>\n",
       "      <th>8</th>\n",
       "      <td>2014-08-25</td>\n",
       "      <td>Declaratoria de la Independencia</td>\n",
       "    </tr>\n",
       "    <tr>\n",
       "      <th>9</th>\n",
       "      <td>2014-12-25</td>\n",
       "      <td>Día de la Familia</td>\n",
       "    </tr>\n",
       "  </tbody>\n",
       "</table>\n",
       "</div>"
      ],
      "text/plain": [
       "        fecha                            nombre\n",
       "0  2013-01-01                         Año Nuevo\n",
       "1  2013-05-01           Día de los Trabajadores\n",
       "2  2013-07-18           Jura de la Constitución\n",
       "3  2013-08-25  Declaratoria de la Independencia\n",
       "4  2013-12-25                 Día de la Familia\n",
       "5  2014-01-01                         Año Nuevo\n",
       "6  2014-05-01           Día de los Trabajadores\n",
       "7  2014-07-18           Jura de la Constitución\n",
       "8  2014-08-25  Declaratoria de la Independencia\n",
       "9  2014-12-25                 Día de la Familia"
      ]
     },
     "execution_count": 8,
     "metadata": {},
     "output_type": "execute_result"
    }
   ],
   "source": [
    "df_festivos.head(10)"
   ]
  },
  {
   "cell_type": "code",
   "execution_count": 9,
   "metadata": {},
   "outputs": [],
   "source": [
    "# Guardar el DataFrame en un archivo xls\n",
    "df_festivos.to_excel('data/festivos_uy.xlsx', index=False)"
   ]
  }
 ],
 "metadata": {
  "kernelspec": {
   "display_name": "Python 3",
   "language": "python",
   "name": "python3"
  },
  "language_info": {
   "codemirror_mode": {
    "name": "ipython",
    "version": 3
   },
   "file_extension": ".py",
   "mimetype": "text/x-python",
   "name": "python",
   "nbconvert_exporter": "python",
   "pygments_lexer": "ipython3",
   "version": "3.12.5"
  }
 },
 "nbformat": 4,
 "nbformat_minor": 2
}
